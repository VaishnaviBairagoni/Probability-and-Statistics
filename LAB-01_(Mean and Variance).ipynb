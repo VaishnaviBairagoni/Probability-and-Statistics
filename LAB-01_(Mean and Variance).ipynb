{
  "nbformat": 4,
  "nbformat_minor": 0,
  "metadata": {
    "colab": {
      "provenance": [],
      "authorship_tag": "ABX9TyP5xJPeFGQdXZibETvn2YVO",
      "include_colab_link": true
    },
    "kernelspec": {
      "name": "python3",
      "display_name": "Python 3"
    },
    "language_info": {
      "name": "python"
    }
  },
  "cells": [
    {
      "cell_type": "markdown",
      "metadata": {
        "id": "view-in-github",
        "colab_type": "text"
      },
      "source": [
        "<a href=\"https://colab.research.google.com/github/VaishnaviBairagoni/Probability-and-Statistics/blob/main/LAB-01_(Mean%20and%20Variance).ipynb\" target=\"_parent\"><img src=\"https://colab.research.google.com/assets/colab-badge.svg\" alt=\"Open In Colab\"/></a>"
      ]
    },
    {
      "cell_type": "code",
      "execution_count": 1,
      "metadata": {
        "colab": {
          "base_uri": "https://localhost:8080/"
        },
        "id": "nZw-9U8ZnGSv",
        "outputId": "a69385c2-dc94-4080-d055-93e75e598c85"
      },
      "outputs": [
        {
          "output_type": "stream",
          "name": "stdout",
          "text": [
            "{'State': ['Andhra Pradesh', 'Maharashtra', 'Karnataka', 'Kerala', 'Tamil Nadu'], 'Capital': ['Hyderabad', 'Mumbai', 'Bengaluru', 'Trivandrum', 'Chennai'], 'Literacy %': [89, 77, 82, 97, 85], 'Avg High Temp(c)': [33, 30, 29, 31, 32]}\n"
          ]
        }
      ],
      "source": [
        "import pandas as pd\n",
        "Dataset={\n",
        "\"State\": ['Andhra Pradesh', 'Maharashtra', 'Karnataka', 'Kerala', 'Tamil Nadu'],\n",
        "\"Capital\": ['Hyderabad', 'Mumbai', 'Bengaluru', 'Trivandrum', 'Chennai'],\n",
        "\"Literacy %\": [89, 77, 82, 97,85],\n",
        "\"Avg High Temp(c)\": [33, 30, 29, 31, 32 ]}\n",
        "print(Dataset)"
      ]
    },
    {
      "cell_type": "code",
      "source": [
        "df=pd.DataFrame(Dataset)\n",
        "print(df)\n",
        "df = pd.DataFrame({\n",
        "\"State\": ['Andhra Pradesh', 'Maharashtra', 'Karnataka', 'Kerala', 'Tamil Nadu'],\n",
        "\"Capital\": ['Hyderabad', 'Mumbai', 'Bengaluru', 'Trivandrum', 'Chennai'],\n",
        "\"Literacy %\": [89, 77, 82, 97,85],\n",
        "\"Avg High Temp(c)\": [33, 30, 29, 31, 32 ]\n",
        "})\n",
        "print(df)\n",
        "print(df.head(2))\n",
        "print(df.tail(3))\n",
        "print(df.dtypes)\n",
        "print(df.sort_values('Literacy %', ascending=False))\n",
        "print(df[['Capital']])\n",
        "print(df[['State', 'Capital']])\n",
        "print(df.loc[2])\n",
        "print(df.iloc[2])\n",
        "print(df.iloc[1,2])\n",
        "print(df.loc[1,'Literacy %'])"
      ],
      "metadata": {
        "colab": {
          "base_uri": "https://localhost:8080/"
        },
        "id": "h5zqQNeBnRJy",
        "outputId": "f95e43b9-5d55-4a41-ca3d-e42c2969a6f1"
      },
      "execution_count": 2,
      "outputs": [
        {
          "output_type": "stream",
          "name": "stdout",
          "text": [
            "            State     Capital  Literacy %  Avg High Temp(c)\n",
            "0  Andhra Pradesh   Hyderabad          89                33\n",
            "1     Maharashtra      Mumbai          77                30\n",
            "2       Karnataka   Bengaluru          82                29\n",
            "3          Kerala  Trivandrum          97                31\n",
            "4      Tamil Nadu     Chennai          85                32\n",
            "            State     Capital  Literacy %  Avg High Temp(c)\n",
            "0  Andhra Pradesh   Hyderabad          89                33\n",
            "1     Maharashtra      Mumbai          77                30\n",
            "2       Karnataka   Bengaluru          82                29\n",
            "3          Kerala  Trivandrum          97                31\n",
            "4      Tamil Nadu     Chennai          85                32\n",
            "            State    Capital  Literacy %  Avg High Temp(c)\n",
            "0  Andhra Pradesh  Hyderabad          89                33\n",
            "1     Maharashtra     Mumbai          77                30\n",
            "        State     Capital  Literacy %  Avg High Temp(c)\n",
            "2   Karnataka   Bengaluru          82                29\n",
            "3      Kerala  Trivandrum          97                31\n",
            "4  Tamil Nadu     Chennai          85                32\n",
            "State               object\n",
            "Capital             object\n",
            "Literacy %           int64\n",
            "Avg High Temp(c)     int64\n",
            "dtype: object\n",
            "            State     Capital  Literacy %  Avg High Temp(c)\n",
            "3          Kerala  Trivandrum          97                31\n",
            "0  Andhra Pradesh   Hyderabad          89                33\n",
            "4      Tamil Nadu     Chennai          85                32\n",
            "2       Karnataka   Bengaluru          82                29\n",
            "1     Maharashtra      Mumbai          77                30\n",
            "      Capital\n",
            "0   Hyderabad\n",
            "1      Mumbai\n",
            "2   Bengaluru\n",
            "3  Trivandrum\n",
            "4     Chennai\n",
            "            State     Capital\n",
            "0  Andhra Pradesh   Hyderabad\n",
            "1     Maharashtra      Mumbai\n",
            "2       Karnataka   Bengaluru\n",
            "3          Kerala  Trivandrum\n",
            "4      Tamil Nadu     Chennai\n",
            "State               Karnataka\n",
            "Capital             Bengaluru\n",
            "Literacy %                 82\n",
            "Avg High Temp(c)           29\n",
            "Name: 2, dtype: object\n",
            "State               Karnataka\n",
            "Capital             Bengaluru\n",
            "Literacy %                 82\n",
            "Avg High Temp(c)           29\n",
            "Name: 2, dtype: object\n",
            "77\n",
            "77\n"
          ]
        }
      ]
    },
    {
      "cell_type": "code",
      "source": [
        "a={\"Distance\":[15, 13, 16, 16, 15, 16, 17, 14, 15, 16, 16,17, 14, 17, 17, 16, 14, 15, 16, 17, 14, 16, 15, 17, 1]}\n",
        "import pandas as pd\n",
        "df=pd.DataFrame(a)\n",
        "print(df)\n",
        "print('The number of elements in the column is =',df['Distance'].size)"
      ],
      "metadata": {
        "colab": {
          "base_uri": "https://localhost:8080/"
        },
        "id": "aMWIIUoWnfsP",
        "outputId": "0f3f65a6-fcfc-49d5-8475-cd809816d810"
      },
      "execution_count": 3,
      "outputs": [
        {
          "output_type": "stream",
          "name": "stdout",
          "text": [
            "    Distance\n",
            "0         15\n",
            "1         13\n",
            "2         16\n",
            "3         16\n",
            "4         15\n",
            "5         16\n",
            "6         17\n",
            "7         14\n",
            "8         15\n",
            "9         16\n",
            "10        16\n",
            "11        17\n",
            "12        14\n",
            "13        17\n",
            "14        17\n",
            "15        16\n",
            "16        14\n",
            "17        15\n",
            "18        16\n",
            "19        17\n",
            "20        14\n",
            "21        16\n",
            "22        15\n",
            "23        17\n",
            "24         1\n",
            "The number of elements in the column is = 25\n"
          ]
        }
      ]
    },
    {
      "cell_type": "code",
      "source": [
        "df2=pd.crosstab(index=df['Distance'],columns='Frequency')\n",
        "print(df2)\n",
        "print(df2['Frequency'].sum())\n",
        "df2['Relative_Frequencies']=df2['Frequency']/df2['Frequency'].sum()\n",
        "df2['Percentage']=df2['Frequency']/df2['Frequency'].sum()*100\n",
        "print(df2)\n",
        "df2.loc['Total']=df2.sum()\n",
        "print(df2)"
      ],
      "metadata": {
        "colab": {
          "base_uri": "https://localhost:8080/"
        },
        "id": "4Qr1gTAonpLR",
        "outputId": "f3e8586a-6f8c-46aa-aeec-3e0a075813be"
      },
      "execution_count": 4,
      "outputs": [
        {
          "output_type": "stream",
          "name": "stdout",
          "text": [
            "col_0     Frequency\n",
            "Distance           \n",
            "1                 1\n",
            "13                1\n",
            "14                4\n",
            "15                5\n",
            "16                8\n",
            "17                6\n",
            "25\n",
            "col_0     Frequency  Relative_Frequencies  Percentage\n",
            "Distance                                             \n",
            "1                 1                  0.04         4.0\n",
            "13                1                  0.04         4.0\n",
            "14                4                  0.16        16.0\n",
            "15                5                  0.20        20.0\n",
            "16                8                  0.32        32.0\n",
            "17                6                  0.24        24.0\n",
            "col_0     Frequency  Relative_Frequencies  Percentage\n",
            "Distance                                             \n",
            "1               1.0                  0.04         4.0\n",
            "13              1.0                  0.04         4.0\n",
            "14              4.0                  0.16        16.0\n",
            "15              5.0                  0.20        20.0\n",
            "16              8.0                  0.32        32.0\n",
            "17              6.0                  0.24        24.0\n",
            "Total          25.0                  1.00       100.0\n"
          ]
        }
      ]
    },
    {
      "cell_type": "code",
      "source": [
        "import numpy as np\n",
        "import pandas as pd\n",
        "data=[328, 470, 405, 375, 298, 326, 276, 362, 410, 255, 391, 370, 455, 229, 300, 183,\n",
        "283, 366, 400, 495, 215, 157, 374, 306, 280, 409, 321, 269, 398, 200]\n",
        "diction={\"Score\":data}\n",
        "df=pd.DataFrame(diction)\n",
        "print(df)"
      ],
      "metadata": {
        "colab": {
          "base_uri": "https://localhost:8080/"
        },
        "id": "g8S9ugPpnwwb",
        "outputId": "5bd351d7-447e-4a7d-9814-d530ec3988a9"
      },
      "execution_count": 5,
      "outputs": [
        {
          "output_type": "stream",
          "name": "stdout",
          "text": [
            "    Score\n",
            "0     328\n",
            "1     470\n",
            "2     405\n",
            "3     375\n",
            "4     298\n",
            "5     326\n",
            "6     276\n",
            "7     362\n",
            "8     410\n",
            "9     255\n",
            "10    391\n",
            "11    370\n",
            "12    455\n",
            "13    229\n",
            "14    300\n",
            "15    183\n",
            "16    283\n",
            "17    366\n",
            "18    400\n",
            "19    495\n",
            "20    215\n",
            "21    157\n",
            "22    374\n",
            "23    306\n",
            "24    280\n",
            "25    409\n",
            "26    321\n",
            "27    269\n",
            "28    398\n",
            "29    200\n"
          ]
        }
      ]
    },
    {
      "cell_type": "code",
      "source": [
        "A=min(data)\n",
        "print('The lowest value is ',A)\n",
        "B=max(data)\n",
        "print('The highestest value is ',B)\n",
        "N=round((B-A)/50)\n",
        "N\n",
        "bins=np.linspace(150,500,N+1)\n",
        "print(bins)\n",
        "df['Class Intervals']=pd.cut(df['Score'],bins=bins,right=False,)\n",
        "print(df)\n",
        "table2=pd.crosstab(index=df['Class Intervals'],columns='Frequency')\n",
        "table2\n",
        "print(table2)"
      ],
      "metadata": {
        "colab": {
          "base_uri": "https://localhost:8080/"
        },
        "id": "9QiIYKUon0mB",
        "outputId": "22ac6aed-4400-4bf1-fafa-27e18d53e19b"
      },
      "execution_count": 6,
      "outputs": [
        {
          "output_type": "stream",
          "name": "stdout",
          "text": [
            "The lowest value is  157\n",
            "The highestest value is  495\n",
            "[150. 200. 250. 300. 350. 400. 450. 500.]\n",
            "    Score Class Intervals\n",
            "0     328  [300.0, 350.0)\n",
            "1     470  [450.0, 500.0)\n",
            "2     405  [400.0, 450.0)\n",
            "3     375  [350.0, 400.0)\n",
            "4     298  [250.0, 300.0)\n",
            "5     326  [300.0, 350.0)\n",
            "6     276  [250.0, 300.0)\n",
            "7     362  [350.0, 400.0)\n",
            "8     410  [400.0, 450.0)\n",
            "9     255  [250.0, 300.0)\n",
            "10    391  [350.0, 400.0)\n",
            "11    370  [350.0, 400.0)\n",
            "12    455  [450.0, 500.0)\n",
            "13    229  [200.0, 250.0)\n",
            "14    300  [300.0, 350.0)\n",
            "15    183  [150.0, 200.0)\n",
            "16    283  [250.0, 300.0)\n",
            "17    366  [350.0, 400.0)\n",
            "18    400  [400.0, 450.0)\n",
            "19    495  [450.0, 500.0)\n",
            "20    215  [200.0, 250.0)\n",
            "21    157  [150.0, 200.0)\n",
            "22    374  [350.0, 400.0)\n",
            "23    306  [300.0, 350.0)\n",
            "24    280  [250.0, 300.0)\n",
            "25    409  [400.0, 450.0)\n",
            "26    321  [300.0, 350.0)\n",
            "27    269  [250.0, 300.0)\n",
            "28    398  [350.0, 400.0)\n",
            "29    200  [200.0, 250.0)\n",
            "col_0            Frequency\n",
            "Class Intervals           \n",
            "[150.0, 200.0)           2\n",
            "[200.0, 250.0)           3\n",
            "[250.0, 300.0)           6\n",
            "[300.0, 350.0)           5\n",
            "[350.0, 400.0)           7\n",
            "[400.0, 450.0)           4\n",
            "[450.0, 500.0)           3\n"
          ]
        }
      ]
    }
  ]
}