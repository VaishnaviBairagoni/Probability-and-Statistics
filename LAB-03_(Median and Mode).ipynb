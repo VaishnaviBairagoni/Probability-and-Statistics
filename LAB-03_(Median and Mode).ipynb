{
  "nbformat": 4,
  "nbformat_minor": 0,
  "metadata": {
    "colab": {
      "provenance": [],
      "authorship_tag": "ABX9TyN+efsBtsmE3q7FUsOYyUVg",
      "include_colab_link": true
    },
    "kernelspec": {
      "name": "python3",
      "display_name": "Python 3"
    },
    "language_info": {
      "name": "python"
    }
  },
  "cells": [
    {
      "cell_type": "markdown",
      "metadata": {
        "id": "view-in-github",
        "colab_type": "text"
      },
      "source": [
        "<a href=\"https://colab.research.google.com/github/VaishnaviBairagoni/Probability-and-Statistics/blob/main/LAB-03_(Median%20and%20Mode).ipynb\" target=\"_parent\"><img src=\"https://colab.research.google.com/assets/colab-badge.svg\" alt=\"Open In Colab\"/></a>"
      ]
    },
    {
      "cell_type": "code",
      "source": [
        "#Question1\n",
        "import numpy as np\n",
        "data=[12, 45, 67, 23, 45, 89, 45, 12, 33, 67, 67, 78, 45, 23, 23, 56, 89, 45, 33, 45]\n",
        "median_numpy=np.median(data)\n",
        "print(median_numpy)\n",
        "\n",
        "mode_numpy=np.unique(data,return_counts=True)\n",
        "print(mode_numpy)\n",
        "import pandas as pd\n",
        "mode_pandas=pd.Series(data).mode()[0]\n",
        "print(mode_pandas)\n"
      ],
      "metadata": {
        "colab": {
          "base_uri": "https://localhost:8080/"
        },
        "id": "XZvHo9q76Zre",
        "outputId": "fff235aa-fef4-4657-b40d-3bba9c33f4e9"
      },
      "execution_count": 8,
      "outputs": [
        {
          "output_type": "stream",
          "name": "stdout",
          "text": [
            "45.0\n",
            "(array([12, 23, 33, 45, 56, 67, 78, 89]), array([2, 3, 2, 6, 1, 3, 1, 2]))\n",
            "45\n"
          ]
        }
      ]
    },
    {
      "cell_type": "code",
      "source": [
        "#Question2\n",
        "import numpy as np\n",
        "import pandas as pd\n",
        "\n",
        "data = np.array([10, 20, 30, 40, 50])\n",
        "freq = np.array([5, 8, 12, 15, 7])\n",
        "expanded_data = np.repeat(data, freq)\n",
        "\n",
        "median = np.median(expanded_data)\n",
        "\n",
        "values, counts = np.unique(expanded_data, return_counts=True)\n",
        "mode_numpy = values[np.argmax(counts)]\n",
        "\n",
        "df = pd.DataFrame({'Data': expanded_data})\n",
        "mode_pandas = df['Data'].mode()[0]\n",
        "\n",
        "print(\"Median (NumPy):\", median)\n",
        "print(\"Mode (NumPy):\", mode_numpy)\n",
        "print(\"Mode (Pandas):\", mode_pandas)"
      ],
      "metadata": {
        "colab": {
          "base_uri": "https://localhost:8080/"
        },
        "id": "QJ67UOf36bGn",
        "outputId": "42ae7b8e-1b03-49f4-a7ba-79f20021ea7f"
      },
      "execution_count": 9,
      "outputs": [
        {
          "output_type": "stream",
          "name": "stdout",
          "text": [
            "Median (NumPy): 30.0\n",
            "Mode (NumPy): 40\n",
            "Mode (Pandas): 40\n"
          ]
        }
      ]
    },
    {
      "cell_type": "code",
      "source": [
        "#Question3\n",
        "import numpy as np\n",
        "import pandas as pd\n",
        "\n",
        "class_intervals = [(0,10), (10,20), (20,30), (30,40), (40,50)]\n",
        "Freq = [4, 6, 10, 8, 2]\n",
        "\n",
        "df = pd.DataFrame({'Class Interval': class_intervals, 'Frequency': Freq})\n",
        "\n",
        "df['Cumulative Frequency'] = df['Frequency'].cumsum()\n",
        "\n",
        "N = df['Frequency'].sum()\n",
        "\n",
        "median_index = np.where(df['Cumulative Frequency'] >= (N/2))[0][0]\n",
        "\n",
        "median = (class_intervals[median_index][0] + class_intervals[median_index][1]) / 2\n",
        "\n",
        "mode_index = np.argmax(Freq)\n",
        "\n",
        "mode = (class_intervals[mode_index][0] + class_intervals[mode_index][1]) / 2\n",
        "\n",
        "print(\"Median:\", median)\n",
        "print(\"Mode:\", mode)"
      ],
      "metadata": {
        "colab": {
          "base_uri": "https://localhost:8080/"
        },
        "id": "S6ukMAnR6kVO",
        "outputId": "dccd1e1e-4cae-4934-d1c0-b66475245091"
      },
      "execution_count": 10,
      "outputs": [
        {
          "output_type": "stream",
          "name": "stdout",
          "text": [
            "Median: 25.0\n",
            "Mode: 25.0\n"
          ]
        }
      ]
    },
    {
      "cell_type": "code",
      "source": [
        "#UsingFormula\n",
        "\n",
        "median_class_index = (df['Cumulative Frequency'] >= (N / 2)).idxmax()\n",
        "L = class_intervals[median_class_index][0]\n",
        "CF = df['Cumulative Frequency'][median_class_index - 1] if median_class_index > 0 else 0\n",
        "f = df['Frequency'][median_class_index]\n",
        "h = class_intervals[median_class_index][1] - class_intervals[median_class_index][0]\n",
        "median_formula= L + ((N / 2 - CF) / f) * h\n",
        "\n",
        "mode_class_index = np.argmax(Freq)\n",
        "mode_L = class_intervals[mode_class_index][0]\n",
        "f1 = df['Frequency'][mode_class_index]\n",
        "f0 = df['Frequency'][mode_class_index - 1] if mode_class_index > 0 else 0\n",
        "f2 = df['Frequency'][mode_class_index + 1] if mode_class_index < len(Freq) - 1 else 0\n",
        "h = class_intervals[mode_class_index][1] - class_intervals[mode_class_index][0]\n",
        "mode_formula = mode_L + ((f1 - f0) / ((2 * f1) - f0 - f2)) * h\n",
        "\n",
        "\n",
        "print(\"Median:\", median_formula)\n",
        "print(\"Mode:\", mode_formula)\n"
      ],
      "metadata": {
        "colab": {
          "base_uri": "https://localhost:8080/"
        },
        "id": "mlFkkuTf6oES",
        "outputId": "ad2b6de9-c1bd-4904-c4fb-f3b2bb3471ed"
      },
      "execution_count": 11,
      "outputs": [
        {
          "output_type": "stream",
          "name": "stdout",
          "text": [
            "Median: 25.0\n",
            "Mode: 26.666666666666664\n"
          ]
        }
      ]
    }
  ]
}