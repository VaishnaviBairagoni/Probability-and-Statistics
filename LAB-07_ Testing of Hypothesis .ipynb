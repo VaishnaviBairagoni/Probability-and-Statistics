{
  "nbformat": 4,
  "nbformat_minor": 0,
  "metadata": {
    "colab": {
      "provenance": [],
      "authorship_tag": "ABX9TyNhu2y15/x1M/TdMERRFCEC",
      "include_colab_link": true
    },
    "kernelspec": {
      "name": "python3",
      "display_name": "Python 3"
    },
    "language_info": {
      "name": "python"
    }
  },
  "cells": [
    {
      "cell_type": "markdown",
      "metadata": {
        "id": "view-in-github",
        "colab_type": "text"
      },
      "source": [
        "<a href=\"https://colab.research.google.com/github/VaishnaviBairagoni/Probability-and-Statistics/blob/main/LAB-07_%20Testing%20of%20Hypothesis%20.ipynb\" target=\"_parent\"><img src=\"https://colab.research.google.com/assets/colab-badge.svg\" alt=\"Open In Colab\"/></a>"
      ]
    },
    {
      "cell_type": "code",
      "execution_count": 5,
      "metadata": {
        "colab": {
          "base_uri": "https://localhost:8080/"
        },
        "id": "wasgXuRQhKEl",
        "outputId": "2319b18a-2696-4373-e53c-11931769228f"
      },
      "outputs": [
        {
          "output_type": "stream",
          "name": "stdout",
          "text": [
            "Sample Mean: 27466.666666666668\n",
            "Sample Standard Deviation: 3748.650550849059\n"
          ]
        }
      ],
      "source": [
        "import numpy as np\n",
        "import scipy.stats as stats\n",
        "data = np.array([25000, 31000, 20000, 28000, 29500, 32000, 21000, 30500, 27000, 28500, 30000, 23000, 31000, 26000, 29500])\n",
        "# 1. Compute the sample mean and standard deviation\n",
        "sample_mean = np.mean(data)\n",
        "sample_std = np.std(data, ddof=1)  # Using ddof=1 for sample standard deviation\n",
        "sample_size = len(data)\n",
        "print(f\"Sample Mean: {sample_mean}\")\n",
        "print(f\"Sample Standard Deviation: {sample_std}\")"
      ]
    },
    {
      "cell_type": "code",
      "source": [
        "# 2. Calculate the 95% confidence interval for the sample mean\n",
        "confidence_level = 0.95\n",
        "alpha = 1 - confidence_level\n",
        "t_critical = stats.t.ppf(1 - alpha/2, df=sample_size-1)  # t-critical value\n",
        "margin_of_error = t_critical * (sample_std / np.sqrt(sample_size))\n",
        "confidence_interval = (sample_mean - margin_of_error, sample_mean + margin_of_error)\n",
        "print(f\"95% Confidence Interval: {confidence_interval}\")\n"
      ],
      "metadata": {
        "colab": {
          "base_uri": "https://localhost:8080/"
        },
        "id": "Q0JrJkxfhpXJ",
        "outputId": "f1131f5a-a8b9-4090-8f60-c4d0e272796c"
      },
      "execution_count": 6,
      "outputs": [
        {
          "output_type": "stream",
          "name": "stdout",
          "text": [
            "95% Confidence Interval: (25390.733185830333, 29542.600147503003)\n"
          ]
        }
      ]
    },
    {
      "cell_type": "code",
      "source": [
        "# 3. Hypothesis test (using the confidence interval)\n",
        "# Null hypothesis (H0): mean = 30000\n",
        "# Alternative hypothesis (Ha): mean != 30000\n",
        "# Check if 30000 lies within the confidence interval\n",
        "reject_null = 30000 < confidence_interval[0] or 30000 > confidence_interval[1]\n",
        "print(f\"Do we reject the null hypothesis? {'Yes' if reject_null else 'No'}\")\n"
      ],
      "metadata": {
        "colab": {
          "base_uri": "https://localhost:8080/"
        },
        "id": "9AapI441htS7",
        "outputId": "16fbd157-2eec-4555-fb30-eb98f9958d58"
      },
      "execution_count": 7,
      "outputs": [
        {
          "output_type": "stream",
          "name": "stdout",
          "text": [
            "Do we reject the null hypothesis? Yes\n"
          ]
        }
      ]
    }
  ]
}